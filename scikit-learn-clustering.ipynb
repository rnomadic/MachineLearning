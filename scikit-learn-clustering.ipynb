{
 "cells": [
  {
   "cell_type": "markdown",
   "metadata": {},
   "source": [
    "Clustering in general\n",
    "=========\n",
    "\n",
    "Main Documentation\n",
    "\n",
    "http://scikit-learn.org/stable/modules/clustering.html\n",
    "\n",
    "Each clustering algorithm comes in two variants:  <br> 1>  a class, that implements the fit method to learn the clusters on train data,  <br> 2> and a function, that, given train data, returns an array of integer labels corresponding to the different clusters.\n",
    "\n",
    "There are many custering algorithm exists, and a comparision is given below in sklearn page."
   ]
  },
  {
   "cell_type": "markdown",
   "metadata": {},
   "source": [
    "k-means clustering\n",
    "===============\n",
    "\n",
    "Main documentation\n",
    "\n",
    "http://scikit-learn.org/stable/modules/clustering.html#k-means\n",
    "\n",
    "The KMeans algorithm clusters data by trying to separate samples in n groups of equal variance, minimizing a criterion known as the inertia or within-cluster sum-of-squares.\n",
    "\n",
    "The k-means algorithm divides a set of N samples X into K disjoint clusters C, each described by the mean \\mu_j of the samples in the cluster. The means are commonly called the cluster “centroids”; note that they are not, in general, points from X, although they live in the same space. The K-means algorithm aims to choose centroids that minimise the inertia, or within-cluster sum of squared criterion:\n",
    "\n",
    "\n",
    "In basic terms, the algorithm has three steps.<br>\n",
    "\n",
    "1. The first step chooses the initial centroids, with the most basic method being to choose k samples from the dataset X.\n",
    "2. After initialization, K-means consists of looping between the two other steps. <br>\n",
    "    2.1 The first step assigns each sample to its nearest centroid. <br>\n",
    "    2.2 The second step creates new centroids by taking the mean value of all of the samples assigned \n",
    "    to each previous centroid. <br><br>\n",
    "    The difference between the old and the new centroids are computed and the algorithm repeats these last two steps until this value is less than a threshold. In other words, it repeats until the centroids do not move significantly."
   ]
  },
  {
   "cell_type": "markdown",
   "metadata": {},
   "source": [
    "\n",
    "sklearn.cluster.KMeans (parameters)\n",
    "=============================\n",
    "\n",
    "Main documentation\n",
    "\n",
    "http://scikit-learn.org/stable/modules/generated/sklearn.cluster.KMeans.html#sklearn.cluster.KMeans\n",
    "\n",
    "<font color='green' size ='3pt'>class sklearn.cluster.KMeans</font> \n",
    "(<font color='red'>n_clusters=8</font> , init=’k-means++’, <font color='red'>n_init=10</font>, <font color='red'>max_iter=300</font>, tol=0.0001, precompute_distances=’auto’, verbose=0, random_state=None, copy_x=True, n_jobs=1, algorithm=’auto’)\n",
    "\n",
    "<font color='red'>n_clusters</font> : The most important parameter and will define how many cluster we want for our samples.\n",
    "\n",
    "<font color='red'>n_init</font> : will define how many times we want to initialize our clustering algo. Clustering depends lot on from where you start putting your centroids.\n",
    "\n",
    "\n",
    "<font color='red'>max_iter</font> : will define how many times you want to iterate over. Nomally 300 is good numbers."
   ]
  },
  {
   "cell_type": "markdown",
   "metadata": {},
   "source": [
    "Limitation\n",
    "========\n",
    "\n",
    "1> Depends on where you put your initial clustet centre.\n",
    "For ex: Given same data set and same number of cluster, k-means will not produce same clusters all the time.\n",
    "\n",
    "2> Local optima: As K-means is a local hill climbing algorithm. It heavilily depends on intial cluster centre. If we find sub-optimal solution with given number of cluster and their initial position, it is really difficult to move away from that. As a result it is possible to have a big cluster with very much scattered sample points.\n",
    "\n"
   ]
  },
  {
   "cell_type": "code",
   "execution_count": null,
   "metadata": {},
   "outputs": [],
   "source": []
  }
 ],
 "metadata": {
  "kernelspec": {
   "display_name": "Python 3",
   "language": "python",
   "name": "python3"
  },
  "language_info": {
   "codemirror_mode": {
    "name": "ipython",
    "version": 3
   },
   "file_extension": ".py",
   "mimetype": "text/x-python",
   "name": "python",
   "nbconvert_exporter": "python",
   "pygments_lexer": "ipython3",
   "version": "3.5.1"
  }
 },
 "nbformat": 4,
 "nbformat_minor": 2
}
