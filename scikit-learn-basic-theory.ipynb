{
 "cells": [
  {
   "cell_type": "markdown",
   "metadata": {},
   "source": [
    "## Choosing the right estimator<br>\n",
    "\n",
    "![title](resources/ml_map.png)"
   ]
  },
  {
   "cell_type": "markdown",
   "metadata": {},
   "source": [
    "# non-parametric vs parametric model\n",
    "<br>\n",
    "Machine learning can be summarized as learning a function (f) that maps input variables (X) to output variables (Y).\n",
    "\n",
    "Y = f(x)\n",
    "\n",
    "An algorithm learns this target mapping function from training data.\n",
    "\n",
    "The form of the function is unknown, so our job as machine learning practitioners is to evaluate different machine learning algorithms and see which is better at approximating the underlying function.\n",
    "\n",
    "Different algorithms make different assumptions or biases about the form of the function and how it can be learned.\n",
    "\n",
    "### parametric:\n",
    "<br>\n",
    "A learning model that summarizes data with a set of parameters of fixed size (independent of the number of training examples) is called a parametric model. No matter how much data you throw at a parametric model, it won’t change its mind about how many parameters it needs.\n",
    "\n",
    "Some examples of parametric machine learning algorithms include:\n",
    "\n",
    "<font color = 'green'> Logistic Regression </font><br>\n",
    "Linear Discriminant Analysis<br>\n",
    "Perceptron\n",
    "<font color = 'green'> Naive Bayes </font> <br>\n",
    "Simple Neural Networks<br>\n",
    "\n",
    "Benifits of Parametric Machine Learning Algorithms:\n",
    "\n",
    "Simpler: These methods are easier to understand and interpret results.<br>\n",
    "Speed: Parametric models are very fast to learn from data.<br>\n",
    "Less Data: They do not require as much training data and can work well even if the fit to the data is not perfect.<br>\n",
    "\n",
    "Limitations of Parametric Machine Learning Algorithms:\n",
    "\n",
    "Constrained: By choosing a functional form these methods are highly constrained to the specified form. <br>\n",
    "Limited Complexity: The methods are more suited to simpler problems. <br>\n",
    "Poor Fit: In practice the methods are unlikely to match the underlying mapping function. <br>\n",
    "\n",
    "### non-parametric:\n",
    "<br>\n",
    "Algorithms that do not make strong assumptions about the form of the mapping function are called nonparametric machine learning algorithms. By not making assumptions, they are free to learn any functional form from the training data.\n",
    "\n",
    "Nonparametric methods are good when you have a lot of data and no prior knowledge, and when you don’t want to worry too much about choosing just the right features.\n",
    "\n",
    "Some more examples of popular nonparametric machine learning algorithms are:\n",
    "\n",
    "<font color = 'green'> k-Nearest Neighbors </font>\n",
    "<font color = 'green'> Support Vector Machines </font> <br>\n",
    "<font color = 'green'> Decision Trees </font>like CART and C4.5\n",
    "<br>\n",
    "Benefits of Nonparametric Machine Learning Algorithms:\n",
    "\n",
    "Flexibility: Capable of fitting a large number of functional forms. <br>\n",
    "Power: No assumptions (or weak assumptions) about the underlying function. <br>\n",
    "Performance: Can result in higher performance models for prediction. <br>\n",
    "\n",
    "Limitations of Nonparametric Machine Learning Algorithms:\n",
    "\n",
    "More data: Require a lot more training data to estimate the mapping function. <br>\n",
    "Slower: A lot slower to train as they often have far more parameters to train. <br>\n",
    "Overfitting: More of a risk to overfit the training data and it is harder to explain why specific predictions are made. <br>"
   ]
  },
  {
   "cell_type": "code",
   "execution_count": null,
   "metadata": {},
   "outputs": [],
   "source": []
  }
 ],
 "metadata": {
  "kernelspec": {
   "display_name": "Python 3",
   "language": "python",
   "name": "python3"
  },
  "language_info": {
   "codemirror_mode": {
    "name": "ipython",
    "version": 3
   },
   "file_extension": ".py",
   "mimetype": "text/x-python",
   "name": "python",
   "nbconvert_exporter": "python",
   "pygments_lexer": "ipython3",
   "version": "3.5.1"
  }
 },
 "nbformat": 4,
 "nbformat_minor": 2
}
